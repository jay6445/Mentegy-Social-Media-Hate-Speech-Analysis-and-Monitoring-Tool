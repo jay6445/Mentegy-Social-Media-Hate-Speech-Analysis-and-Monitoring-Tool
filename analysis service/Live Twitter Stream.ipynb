{
 "cells": [
  {
   "cell_type": "code",
   "execution_count": null,
   "metadata": {},
   "outputs": [],
   "source": [
    "import requests\n",
    "import os\n",
    "import json\n",
    "import pandas as pd\n",
    "import time\n",
    "import pymysql"
   ]
  },
  {
   "cell_type": "code",
   "execution_count": null,
   "metadata": {},
   "outputs": [],
   "source": [
    "# Connect to the database\n",
    "connection = pymysql.connect(host='mentegy-db.****.eu-west-1.rds.amazonaws.com',\n",
    "                             user='root',\n",
    "                             password='****',\n",
    "                             db='mentegy-prod')"
   ]
  },
  {
   "cell_type": "code",
   "execution_count": null,
   "metadata": {},
   "outputs": [],
   "source": [
    "# Creating a cursor\n",
    "cursor = connection.cursor()"
   ]
  },
  {
   "cell_type": "code",
   "execution_count": null,
   "metadata": {},
   "outputs": [],
   "source": [
    "from vaderSentiment.vaderSentiment import SentimentIntensityAnalyzer\n",
    "analyzer = SentimentIntensityAnalyzer()"
   ]
  },
  {
   "cell_type": "code",
   "execution_count": null,
   "metadata": {},
   "outputs": [],
   "source": [
    "%env BEARER_TOKEN= AAAAAAAAAAAAAAAAAAAAAPJZOAEAAAAA4AHhQ5g%2FgMT%2F8%2FSbrwkaATyPFCc%3D6WAGebh9bWk93cLHkDhmfVIVLiGIHqE8sQ8O2Ry7IjihDPVPis "
   ]
  },
  {
   "cell_type": "code",
   "execution_count": null,
   "metadata": {},
   "outputs": [],
   "source": [
    "def auth():\n",
    "    return os.environ.get(\"BEARER_TOKEN\")\n",
    "\n",
    "def create_url():\n",
    "    return \"https://api.twitter.com/2/tweets/sample/stream\""
   ]
  },
  {
   "cell_type": "code",
   "execution_count": null,
   "metadata": {},
   "outputs": [],
   "source": [
    "# To set your enviornment variables in your terminal run the following line:\n",
    "# export 'BEARER_TOKEN'='<your_bearer_token>'\n",
    "\n",
    "def create_headers(bearer_token):\n",
    "    headers = {\"Authorization\": \"Bearer {}\".format(bearer_token)}\n",
    "    return headers\n"
   ]
  },
  {
   "cell_type": "code",
   "execution_count": null,
   "metadata": {},
   "outputs": [],
   "source": [
    "def get_rules(headers, bearer_token):\n",
    "    with requests.get(\"https://api.twitter.com/2/tweets/search/stream/rules\", headers=headers) as response:\n",
    "        if response.status_code != 200:\n",
    "            raise Exception(\n",
    "                \"Cannot get rules (HTTP {}): {}\".format(response.status_code, response.text)\n",
    "            )\n",
    "    #print(json.dumps(response.json()))\n",
    "    return response.json()\n",
    "    "
   ]
  },
  {
   "cell_type": "code",
   "execution_count": null,
   "metadata": {},
   "outputs": [],
   "source": [
    "def delete_all_rules(headers, bearer_token, rules):\n",
    "    if rules is None or \"data\" not in rules:\n",
    "        return None\n",
    "\n",
    "    ids = list(map(lambda rule: rule[\"id\"], rules[\"data\"]))\n",
    "    payload = {\"delete\": {\"ids\": ids}}\n",
    "    with requests.post(\"https://api.twitter.com/2/tweets/search/stream/rules\",headers=headers,json=payload) as response:\n",
    "        if response.status_code != 200:\n",
    "            raise Exception(\n",
    "                \"Cannot delete rules (HTTP {}): {}\".format(\n",
    "                    response.status_code, response.text\n",
    "                )\n",
    "            )\n",
    "    #print(json.dumps(response.json()))\n",
    "    "
   ]
  },
  {
   "cell_type": "code",
   "execution_count": null,
   "metadata": {},
   "outputs": [],
   "source": [
    "def set_rules(headers, delete, bearer_token):\n",
    "    # You can adjust the rules if needed\n",
    "    sample_rules = [\n",
    "        {\"value\": \"asian  -is:retweet OR from:Ireland OR from:Dublin OR from:Cork OR from:Limerick OR from:Galway\"},\n",
    "        {\"value\": \"black -is:retweet OR from:Ireland OR from:Dublin OR from:Cork OR from:Limerick OR from:Galway\"},\n",
    "        {\"value\":\"allah -is:retweet OR from:Ireland OR from:Dublin OR from:Cork OR from:Limerick OR from:Galway\"},\n",
    "        {\"value\":\"blacks -is:retweet OR from:Ireland OR from:Dublin OR from:Cork OR from:Limerick OR from:Galway\"},\n",
    "        {\"value\":\"chink -is:retweet OR from:Ireland OR from:Dublin OR from:Cork OR from:Limerick OR from:Galway\"},\n",
    "        {\"value\":\"chinks -is:retweet OR from:Ireland OR from:Dublin OR from:Cork OR from:Limerick OR from:Galway\"},\n",
    "        {\"value\":\"dykes -is:retweet OR from:Ireland OR from:Dublin OR from:Cork OR from:Limerick OR from:Galway\"},\n",
    "        {\"value\":\"faggot -is:retweet OR from:Ireland OR from:Dublin OR from:Cork OR from:Limerick OR from:Galway\"},\n",
    "        {\"value\":\"faggots -is:retweet OR from:Ireland OR from:Dublin OR from:Cork OR from:Limerick OR from:Galway\"},\n",
    "        {\"value\":\"fags -is:retweet OR from:Ireland OR from:Dublin OR from:Cork OR from:Limerick OR from:Galway\"},\n",
    "        {\"value\":\"homo -is:retweet OR from:Ireland OR from:Dublin OR from:Cork OR from:Limerick OR from:Galway\"},\n",
    "        {\"value\":\"inbred -is:retweet OR from:Ireland OR from:Dublin OR from:Cork OR from:Limerick OR from:Galway\"},\n",
    "        {\"value\":\"nigger -is:retweet OR from:Ireland OR from:Dublin OR from:Cork OR from:Limerick OR from:Galway\"},\n",
    "        {\"value\":\"niggers -is:retweet OR from:Ireland OR from:Dublin OR from:Cork OR from:Limerick OR from:Galway\"},\n",
    "        {\"value\":\"queers -is:retweet OR from:Ireland OR from:Dublin OR from:Cork OR from:Limerick OR from:Galway\"},\n",
    "        {\"value\":\"raped -is:retweet OR from:Ireland OR from:Dublin OR from:Cork OR from:Limerick OR from:Galway\"},\n",
    "        {\"value\":\"savages -is:retweet OR from:Ireland OR from:Dublin OR from:Cork OR from:Limerick OR from:Galway\"},\n",
    "        {\"value\":\"slave -is:retweet OR from:Ireland OR from:Dublin OR from:Cork OR from:Limerick OR from:Galway\"},\n",
    "        {\"value\":\"spic -is:retweet OR from:Ireland OR from:Dublin OR from:Cork OR from:Limerick OR from:Galway\"},\n",
    "        {\"value\":\"wetback -is:retweet OR from:Ireland OR from:Dublin OR from:Cork OR from:Limerick OR from:Galway\"},\n",
    "        {\"value\":\"wetbacks -is:retweet OR from:Ireland OR from:Dublin OR from:Cork OR from:Limerick OR from:Galway\"},\n",
    "        {\"value\":\"whites -is:retweet OR from:Ireland OR from:Dublin OR from:Cork OR from:Limerick OR from:Galway\"},\n",
    "        {\"value\":\"fag -is:retweet OR from:Ireland OR from:Dublin OR from:Cork OR from:Limerick OR from:Galway\"},\n",
    "        {\"value\":\"faggot -is:retweet OR from:Ireland OR from:Dublin OR from:Cork OR from:Limerick OR from:Galway\"},\n",
    "        {\"value\":\"nigga -is:retweet OR from:Ireland OR from:Dublin OR from:Cork OR from:Limerick OR from:Galway\"},\n",
    "        {\"value\":\"niggas -is:retweet OR from:Ireland OR from:Dublin OR from:Cork OR from:Limerick OR from:Galway\"},\n",
    "        {\"value\":\"muslims -is:retweet OR from:Ireland OR from:Dublin OR from:Cork OR from:Limerick OR from:Galway\"},\n",
    "        \n",
    "           \n",
    "    ]\n",
    "    payload = {\"add\": sample_rules}\n",
    "    response = requests.post(\n",
    "        \"https://api.twitter.com/2/tweets/search/stream/rules\",\n",
    "        headers=headers,\n",
    "        json=payload,\n",
    "    )\n",
    "    if response.status_code != 201:\n",
    "        raise Exception(\n",
    "            \"Cannot add rules (HTTP {}): {}\".format(response.status_code, response.text)\n",
    "        )\n",
    "    \n",
    "    #print(json.dumps(response.json()))\n"
   ]
  },
  {
   "cell_type": "code",
   "execution_count": null,
   "metadata": {},
   "outputs": [],
   "source": [
    "def get_stream(headers, set, bearer_token):\n",
    "    \n",
    "    r = ''\n",
    "    while r == '':\n",
    "        try:\n",
    "            with requests.get(\"https://api.twitter.com/2/tweets/search/stream?tweet.fields=created_at&expansions=author_id&user.fields=created_at&place.fields=geo\", headers=headers, stream=True,) as response:\n",
    "            #print(response.status_code)\n",
    "                if response.status_code != 200:\n",
    "                    raise Exception(\n",
    "                        \"Cannot get stream (HTTP {}): {}\".format(\n",
    "                            response.status_code, response.text\n",
    "                        )\n",
    "                    )\n",
    "                #iterating over response\n",
    "                for response_line in response.iter_lines():\n",
    "                    if response_line:\n",
    "                        json_response = json.loads(response_line)\n",
    "                        #converting the created_at key to datetime\n",
    "                        created_at = pd.to_datetime(json_response['data']['created_at']) #converting to datetime\n",
    "                        text = json_response['data']['text']\n",
    "                        ps = analyzer.polarity_scores(text)\n",
    "                        #forming the insert query\n",
    "                        sql = \"INSERT INTO `app_twitter_streams` (`created_at`, `text`, `compound_score`) VALUES (%s, %s, %s);\"\n",
    "                        #executing the query using the execute function\n",
    "                        cursor.execute(sql,(created_at,text,ps['compound']))\n",
    "                        #commit the transaction after inserting every tweet\n",
    "                        connection.commit()\n",
    "                        #print(json_response)\n",
    "        except (requests.exceptions.ConnectionError, requests.exceptions.ChunkedEncodingError) as err:\n",
    "            #Continue loop after 100 ms\n",
    "            time.sleep(100)\n",
    "            continue   "
   ]
  },
  {
   "cell_type": "code",
   "execution_count": null,
   "metadata": {},
   "outputs": [],
   "source": [
    "def main():\n",
    "    bearer_token = os.environ.get(\"BEARER_TOKEN\")\n",
    "    headers = create_headers(bearer_token)\n",
    "    rules = get_rules(headers, bearer_token)\n",
    "    delete = delete_all_rules(headers, bearer_token, rules)\n",
    "    set = set_rules(headers, delete, bearer_token)\n",
    "    get_stream(headers, set, bearer_token)\n"
   ]
  },
  {
   "cell_type": "code",
   "execution_count": null,
   "metadata": {},
   "outputs": [],
   "source": [
    "if __name__ == \"__main__\":\n",
    "    main()\n"
   ]
  }
 ],
 "metadata": {
  "kernelspec": {
   "display_name": "Python 3",
   "language": "python",
   "name": "python3"
  },
  "language_info": {
   "codemirror_mode": {
    "name": "ipython",
    "version": 3
   },
   "file_extension": ".py",
   "mimetype": "text/x-python",
   "name": "python",
   "nbconvert_exporter": "python",
   "pygments_lexer": "ipython3",
   "version": "3.8.3"
  }
 },
 "nbformat": 4,
 "nbformat_minor": 4
}
